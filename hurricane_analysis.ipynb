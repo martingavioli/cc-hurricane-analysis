{
 "metadata": {
  "language_info": {
   "codemirror_mode": {
    "name": "ipython",
    "version": 3
   },
   "file_extension": ".py",
   "mimetype": "text/x-python",
   "name": "python",
   "nbconvert_exporter": "python",
   "pygments_lexer": "ipython3",
   "version": "3.8.3-final"
  },
  "orig_nbformat": 2,
  "kernelspec": {
   "name": "python3",
   "display_name": "Python 3",
   "language": "python"
  }
 },
 "nbformat": 4,
 "nbformat_minor": 2,
 "cells": [
  {
   "cell_type": "code",
   "execution_count": 1,
   "metadata": {},
   "outputs": [],
   "source": [
    "# names of hurricanes\n",
    "names = ['Cuba I', 'San Felipe II Okeechobee', 'Bahamas', 'Cuba II', 'CubaBrownsville', 'Tampico', 'Labor Day', 'New England', 'Carol', 'Janet', 'Carla', 'Hattie', 'Beulah', 'Camille', 'Edith', 'Anita', 'David', 'Allen', 'Gilbert', 'Hugo', 'Andrew', 'Mitch', 'Isabel', 'Ivan', 'Emily', 'Katrina', 'Rita', 'Wilma', 'Dean', 'Felix', 'Matthew', 'Irma', 'Maria', 'Michael']\n",
    "\n",
    "# months of hurricanes\n",
    "months = ['October', 'September', 'September', 'November', 'August', 'September', 'September', 'September', 'September', 'September', 'September', 'October', 'September', 'August', 'September', 'September', 'August', 'August', 'September', 'September', 'August', 'October', 'September', 'September', 'July', 'August', 'September', 'October', 'August', 'September', 'October', 'September', 'September', 'October']\n",
    "\n",
    "# years of hurricanes\n",
    "years = [1924, 1928, 1932, 1932, 1933, 1933, 1935, 1938, 1953, 1955, 1961, 1961, 1967, 1969, 1971, 1977, 1979, 1980, 1988, 1989, 1992, 1998, 2003, 2004, 2005, 2005, 2005, 2005, 2007, 2007, 2016, 2017, 2017, 2018]\n",
    "\n",
    "# maximum sustained winds (mph) of hurricanes\n",
    "max_sustained_winds = [165, 160, 160, 175, 160, 160, 185, 160, 160, 175, 175, 160, 160, 175, 160, 175, 175, 190, 185, 160, 175, 180, 165, 165, 160, 175, 180, 185, 175, 175, 165, 180, 175, 160]\n",
    "\n",
    "# areas affected by each hurricane\n",
    "areas_affected = [['Central America', 'Mexico', 'Cuba', 'Florida', 'The Bahamas'], ['Lesser Antilles', 'The Bahamas', 'United States East Coast', 'Atlantic Canada'], ['The Bahamas', 'Northeastern United States'], ['Lesser Antilles', 'Jamaica', 'Cayman Islands', 'Cuba', 'The Bahamas', 'Bermuda'], ['The Bahamas', 'Cuba', 'Florida', 'Texas', 'Tamaulipas'], ['Jamaica', 'Yucatn Peninsula'], ['The Bahamas', 'Florida', 'Georgia', 'The Carolinas', 'Virginia'], ['Southeastern United States', 'Northeastern United States', 'Southwestern Quebec'], ['Bermuda', 'New England', 'Atlantic Canada'], ['Lesser Antilles', 'Central America'], ['Texas', 'Louisiana', 'Midwestern United States'], ['Central America'], ['The Caribbean', 'Mexico', 'Texas'], ['Cuba', 'United States Gulf Coast'], ['The Caribbean', 'Central America', 'Mexico', 'United States Gulf Coast'], ['Mexico'], ['The Caribbean', 'United States East coast'], ['The Caribbean', 'Yucatn Peninsula', 'Mexico', 'South Texas'], ['Jamaica', 'Venezuela', 'Central America', 'Hispaniola', 'Mexico'], ['The Caribbean', 'United States East Coast'], ['The Bahamas', 'Florida', 'United States Gulf Coast'], ['Central America', 'Yucatn Peninsula', 'South Florida'], ['Greater Antilles', 'Bahamas', 'Eastern United States', 'Ontario'], ['The Caribbean', 'Venezuela', 'United States Gulf Coast'], ['Windward Islands', 'Jamaica', 'Mexico', 'Texas'], ['Bahamas', 'United States Gulf Coast'], ['Cuba', 'United States Gulf Coast'], ['Greater Antilles', 'Central America', 'Florida'], ['The Caribbean', 'Central America'], ['Nicaragua', 'Honduras'], ['Antilles', 'Venezuela', 'Colombia', 'United States East Coast', 'Atlantic Canada'], ['Cape Verde', 'The Caribbean', 'British Virgin Islands', 'U.S. Virgin Islands', 'Cuba', 'Florida'], ['Lesser Antilles', 'Virgin Islands', 'Puerto Rico', 'Dominican Republic', 'Turks and Caicos Islands'], ['Central America', 'United States Gulf Coast (especially Florida Panhandle)']]\n",
    "\n",
    "# damages (USD($)) of hurricanes\n",
    "damages = ['Damages not recorded', '100M', 'Damages not recorded', '40M', '27.9M', '5M', 'Damages not recorded', '306M', '2M', '65.8M', '326M', '60.3M', '208M', '1.42B', '25.4M', 'Damages not recorded', '1.54B', '1.24B', '7.1B', '10B', '26.5B', '6.2B', '5.37B', '23.3B', '1.01B', '125B', '12B', '29.4B', '1.76B', '720M', '15.1B', '64.8B', '91.6B', '25.1B']\n",
    "\n",
    "# deaths for each hurricane\n",
    "deaths = [90,4000,16,3103,179,184,408,682,5,1023,43,319,688,259,37,11,2068,269,318,107,65,19325,51,124,17,1836,125,87,45,133,603,138,3057,74]\n"
   ]
  },
  {
   "cell_type": "code",
   "execution_count": 2,
   "metadata": {},
   "outputs": [
    {
     "output_type": "stream",
     "name": "stdout",
     "text": [
      "['Damages not recorded', 100000000.0, 'Damages not recorded', 40000000.0, 27900000.0, 5000000.0, 'Damages not recorded', 306000000.0, 2000000.0, 65800000.0, 326000000.0, 60300000.0, 208000000.0, 1420000000.0, 25400000.0, 'Damages not recorded', 1540000000.0, 1240000000.0, 7100000000.0, 10000000000.0, 26500000000.0, 6200000000.0, 5370000000.0, 23300000000.0, 1010000000.0, 125000000000.0, 12000000000.0, 29400000000.0, 1760000000.0, 720000000.0, 15100000000.0, 64800000000.0, 91600000000.0, 25100000000.0]\n"
     ]
    }
   ],
   "source": [
    "\n",
    "# write your update damages function here:\n",
    "\n",
    "updated_damages = []\n",
    "def update_damages(data):\n",
    "    conversion = {\"M\": 1000000, \"B\": 1000000000}\n",
    "    for value in data:\n",
    "        if value == \"Damages not recorded\":\n",
    "            updated_damages.append(value)\n",
    "        else:\n",
    "            for key in conversion:   \n",
    "                if key in value:\n",
    "                    updated_damages.append(float(value[:-1]) * conversion[key])\n",
    "\n",
    "# ALTERNATIVE:\n",
    "#updated_damages = []\n",
    "#def update_damages(data):\n",
    "#    for value in data:\n",
    "#        if \"M\" in value:\n",
    "#            millions_value = float(value[:-1]) * 1000000\n",
    "#            updated_damages.append(millions_value)\n",
    "#        elif \"B\" in value:\n",
    "#            billions_value = float(value[:-1]) * 1000000000\n",
    "#            updated_damages.append(billions_value)\n",
    "#        else:\n",
    "#            updated_damages.append(value)\n",
    "\n",
    "update_damages(damages)\n",
    "print(updated_damages)\n"
   ]
  },
  {
   "cell_type": "code",
   "execution_count": 3,
   "metadata": {
    "tags": []
   },
   "outputs": [
    {
     "output_type": "stream",
     "name": "stdout",
     "text": [
      "{'Name': 'Cuba I', 'Month': 'October', 'Year': 1924, 'Max Sustained Wind': 165, 'Areas Affected': ['Central America', 'Mexico', 'Cuba', 'Florida', 'The Bahamas'], 'Damage': 'Damages not recorded', 'Deaths': 90}\n{'Name': 'Michael', 'Month': 'October', 'Year': 2018, 'Max Sustained Wind': 160, 'Areas Affected': ['Central America', 'United States Gulf Coast (especially Florida Panhandle)'], 'Damage': 25100000000.0, 'Deaths': 74}\n"
     ]
    }
   ],
   "source": [
    "\n",
    "# write your construct hurricane dictionary function here:\n",
    "# Iterating trough the entire \"names\" list length, the function imputs the data for every index in the lists in a \"hurricanes\" dictionary\n",
    "\n",
    "hurricanes = {}\n",
    "def construct_dictionary(names, months, years, max_sustained_winds, areas_affected, damages, deaths):\n",
    "    for i in range(len(names)):\n",
    "        hurricanes[names[i]] = {\"Name\": names[i], \n",
    "        \"Month\": months[i], \n",
    "        \"Year\": years[i], \n",
    "        \"Max Sustained Wind\": max_sustained_winds[i], \n",
    "        \"Areas Affected\": areas_affected[i], \n",
    "        \"Damage\": updated_damages[i], \n",
    "        \"Deaths\": deaths[i]}\n",
    "    return hurricanes\n",
    "\n",
    "construct_dictionary(names, months, years, max_sustained_winds, areas_affected, damages, deaths)\n",
    "print(hurricanes[\"Cuba I\"])\n",
    "print(hurricanes[\"Michael\"])\n"
   ]
  },
  {
   "cell_type": "code",
   "execution_count": 4,
   "metadata": {},
   "outputs": [
    {
     "output_type": "stream",
     "name": "stdout",
     "text": [
      "[{'Name': 'Bahamas', 'Month': 'September', 'Year': 1932, 'Max Sustained Wind': 160, 'Areas Affected': ['The Bahamas', 'Northeastern United States'], 'Damage': 'Damages not recorded', 'Deaths': 16}, {'Name': 'Cuba II', 'Month': 'November', 'Year': 1932, 'Max Sustained Wind': 175, 'Areas Affected': ['Lesser Antilles', 'Jamaica', 'Cayman Islands', 'Cuba', 'The Bahamas', 'Bermuda'], 'Damage': 40000000.0, 'Deaths': 3103}]\n \n[{'Name': 'Emily', 'Month': 'July', 'Year': 2005, 'Max Sustained Wind': 160, 'Areas Affected': ['Windward Islands', 'Jamaica', 'Mexico', 'Texas'], 'Damage': 1010000000.0, 'Deaths': 17}, {'Name': 'Katrina', 'Month': 'August', 'Year': 2005, 'Max Sustained Wind': 175, 'Areas Affected': ['Bahamas', 'United States Gulf Coast'], 'Damage': 125000000000.0, 'Deaths': 1836}, {'Name': 'Rita', 'Month': 'September', 'Year': 2005, 'Max Sustained Wind': 180, 'Areas Affected': ['Cuba', 'United States Gulf Coast'], 'Damage': 12000000000.0, 'Deaths': 125}, {'Name': 'Wilma', 'Month': 'October', 'Year': 2005, 'Max Sustained Wind': 185, 'Areas Affected': ['Greater Antilles', 'Central America', 'Florida'], 'Damage': 29400000000.0, 'Deaths': 87}]\n"
     ]
    }
   ],
   "source": [
    "\n",
    "# write your construct hurricane by year dictionary function here:\n",
    "\n",
    "hurricanes_by_year = {}\n",
    "def organize_hurricanes_by_year(hurricanes):\n",
    "    for key in hurricanes.keys():\n",
    "        current_year = hurricanes[key][\"Year\"]\n",
    "        current_cane = hurricanes[key]\n",
    "        if current_year in hurricanes_by_year.keys():\n",
    "            hurricanes_by_year[current_year].append(current_cane)\n",
    "        else:\n",
    "            hurricanes_by_year[current_year] = [current_cane]\n",
    "    return hurricanes_by_year\n",
    "\n",
    "\n",
    "organize_hurricanes_by_year(hurricanes)\n",
    "#print(organize_hurricanes_by_year(hurricanes))\n",
    "print(hurricanes_by_year[1932])\n",
    "print(\" \")\n",
    "print(hurricanes_by_year[2005])\n",
    "\n",
    "# Alternative using years pre existing list:\n",
    "#for year in years:\n",
    "    # creating a list for each year\n",
    "#    hurricanes_by_year[year] = []\n",
    "#    for key in hurricanes.keys():\n",
    "        # appending huricane data to its year list\n",
    "#        if year == hurricanes[key][\"Year\"]:\n",
    "#            hurricanes_by_year[year].append(hurricanes[key])"
   ]
  },
  {
   "cell_type": "code",
   "execution_count": 5,
   "metadata": {},
   "outputs": [
    {
     "output_type": "stream",
     "name": "stdout",
     "text": [
      "{'Central America': 9, 'Mexico': 7, 'Cuba': 6, 'Florida': 6, 'The Bahamas': 7, 'Lesser Antilles': 4, 'United States East Coast': 3, 'Atlantic Canada': 3, 'Northeastern United States': 2, 'Jamaica': 4, 'Cayman Islands': 1, 'Bermuda': 2, 'Texas': 4, 'Tamaulipas': 1, 'Yucatn Peninsula': 3, 'Georgia': 1, 'The Carolinas': 1, 'Virginia': 1, 'Southeastern United States': 1, 'Southwestern Quebec': 1, 'New England': 1, 'Louisiana': 1, 'Midwestern United States': 1, 'The Caribbean': 8, 'United States Gulf Coast': 6, 'United States East coast': 1, 'South Texas': 1, 'Venezuela': 3, 'Hispaniola': 1, 'South Florida': 1, 'Greater Antilles': 2, 'Bahamas': 2, 'Eastern United States': 1, 'Ontario': 1, 'Windward Islands': 1, 'Nicaragua': 1, 'Honduras': 1, 'Antilles': 1, 'Colombia': 1, 'Cape Verde': 1, 'British Virgin Islands': 1, 'U.S. Virgin Islands': 1, 'Virgin Islands': 1, 'Puerto Rico': 1, 'Dominican Republic': 1, 'Turks and Caicos Islands': 1, 'United States Gulf Coast (especially Florida Panhandle)': 1}\n\n{'Central America': 9, 'Mexico': 7, 'Cuba': 6, 'Florida': 6, 'The Bahamas': 7, 'Lesser Antilles': 4, 'United States East Coast': 3, 'Atlantic Canada': 3, 'Northeastern United States': 2, 'Jamaica': 4, 'Cayman Islands': 1, 'Bermuda': 2, 'Texas': 4, 'Tamaulipas': 1, 'Yucatn Peninsula': 3, 'Georgia': 1, 'The Carolinas': 1, 'Virginia': 1, 'Southeastern United States': 1, 'Southwestern Quebec': 1, 'New England': 1, 'Louisiana': 1, 'Midwestern United States': 1, 'The Caribbean': 8, 'United States Gulf Coast': 6, 'United States East coast': 1, 'South Texas': 1, 'Venezuela': 3, 'Hispaniola': 1, 'South Florida': 1, 'Greater Antilles': 2, 'Bahamas': 2, 'Eastern United States': 1, 'Ontario': 1, 'Windward Islands': 1, 'Nicaragua': 1, 'Honduras': 1, 'Antilles': 1, 'Colombia': 1, 'Cape Verde': 1, 'British Virgin Islands': 1, 'U.S. Virgin Islands': 1, 'Virgin Islands': 1, 'Puerto Rico': 1, 'Dominican Republic': 1, 'Turks and Caicos Islands': 1, 'United States Gulf Coast (especially Florida Panhandle)': 1}\n"
     ]
    }
   ],
   "source": [
    "\n",
    "# write your count affected areas function here:\n",
    "\n",
    "hurricane_count_by_area = {}\n",
    "def hurricane_counter(hurricanes):\n",
    "    for hurricane in hurricanes:\n",
    "        areas = hurricanes[hurricane][\"Areas Affected\"]\n",
    "        for area in areas:\n",
    "            if area not in hurricane_count_by_area.keys():\n",
    "                hurricane_count_by_area[area] = 1\n",
    "            else:\n",
    "                hurricane_count_by_area[area] += 1\n",
    "\n",
    "hurricane_counter(hurricanes)\n",
    "print(hurricane_count_by_area)\n",
    "\n",
    "print('')\n",
    "#Alternative using DEFAULTDICT\n",
    "\n",
    "from collections import defaultdict\n",
    "\n",
    "hurricane_count = defaultdict(int)\n",
    "for hurricane in hurricanes:\n",
    "    areas = hurricanes[hurricane][\"Areas Affected\"]\n",
    "    for area in areas:\n",
    "        hurricane_count[area] += 1\n",
    "\n",
    "print(dict(hurricane_count))"
   ]
  },
  {
   "cell_type": "code",
   "execution_count": 6,
   "metadata": {},
   "outputs": [
    {
     "output_type": "stream",
     "name": "stdout",
     "text": [
      "Central America: 9\n"
     ]
    }
   ],
   "source": [
    "\n",
    "# write your find most affected area function here:\n",
    "\n",
    "def most_affected(hurricane_count):\n",
    "    max_value = max(hurricane_count.values())\n",
    "    for area, hurricane_number in hurricane_count.items():\n",
    "        if hurricane_number == max_value:\n",
    "            print(f\"{area}: {hurricane_number}\")\n",
    "\n",
    "most_affected(hurricane_count)\n"
   ]
  },
  {
   "cell_type": "code",
   "execution_count": 7,
   "metadata": {},
   "outputs": [
    {
     "output_type": "stream",
     "name": "stdout",
     "text": [
      "Mitch: 19325\n{'Cuba I': 90, 'San Felipe II Okeechobee': 4000, 'Bahamas': 16, 'Cuba II': 3103, 'CubaBrownsville': 179, 'Tampico': 184, 'Labor Day': 408, 'New England': 682, 'Carol': 5, 'Janet': 1023, 'Carla': 43, 'Hattie': 319, 'Beulah': 688, 'Camille': 259, 'Edith': 37, 'Anita': 11, 'David': 2068, 'Allen': 269, 'Gilbert': 318, 'Hugo': 107, 'Andrew': 65, 'Mitch': 19325, 'Isabel': 51, 'Ivan': 124, 'Emily': 17, 'Katrina': 1836, 'Rita': 125, 'Wilma': 87, 'Dean': 45, 'Felix': 133, 'Matthew': 603, 'Irma': 138, 'Maria': 3057, 'Michael': 74}\n"
     ]
    }
   ],
   "source": [
    "\n",
    "# write your greatest number of deaths function here:\n",
    "hurricanes_deaths = {}\n",
    "def most_deadly(hurricanes):\n",
    "    for key in hurricanes.keys():\n",
    "        current_cane = hurricanes[key][\"Name\"]\n",
    "        death_count = hurricanes[key][\"Deaths\"]\n",
    "        hurricanes_deaths[current_cane] = death_count\n",
    "    max_deaths = max(hurricanes_deaths.values())\n",
    "    for cane, d_count in hurricanes_deaths.items():\n",
    "        if d_count == max_deaths:\n",
    "            print(f\"{cane}: {max_deaths}\")\n",
    "\n",
    "most_deadly(hurricanes)\n",
    "print(hurricanes_deaths)\n"
   ]
  },
  {
   "cell_type": "code",
   "execution_count": 8,
   "metadata": {
    "tags": []
   },
   "outputs": [
    {
     "output_type": "stream",
     "name": "stdout",
     "text": [
      "{0: [], 1: [], 2: [], 3: [], 4: [], 5: []}\n{0: [], 1: ['Cuba I', 'Bahamas', 'Carol', 'Carla', 'Edith', 'Anita', 'Andrew', 'Isabel', 'Emily', 'Wilma', 'Dean', 'Michael'], 2: ['CubaBrownsville', 'Tampico', 'Labor Day', 'Hattie', 'Camille', 'Allen', 'Gilbert', 'Hugo', 'Ivan', 'Rita', 'Felix', 'Irma'], 3: ['New England', 'Beulah', 'Matthew'], 4: ['San Felipe II Okeechobee', 'Cuba II', 'Janet', 'David', 'Katrina', 'Maria'], 5: ['Mitch']}\n['New England', 'Beulah', 'Matthew']\n"
     ]
    }
   ],
   "source": [
    "\n",
    "# write your catgeorize by mortality function here:\n",
    "mortality_scale = {0: 0,\n",
    "                   1: 100,\n",
    "                   2: 500,\n",
    "                   3: 1000,\n",
    "                   4: 10000}\n",
    "\n",
    "# 1ST I CREATE A DICTIONARY WITH MORTALITY RATINGS AS THE KEYS AND EMPTY LISTS AS VALUES:\n",
    "\n",
    "from collections import defaultdict\n",
    "hurricanes_by_mortality = defaultdict(list)\n",
    "\n",
    "for key in range(len(mortality_scale)+1):\n",
    "    hurricanes_by_mortality[key] = []\n",
    "\n",
    "#PRINTING DICTIONARY WITH EMPTY LISTS\n",
    "print(dict(hurricanes_by_mortality))\n",
    "\n",
    "# 2ND I CREATE A FUNCTION THAT TAKES A NUMBER OF DEADS AS PARAMETER AND RETURNS A RANK VALUE FOLLOWING THE MORTALITY SCALE:\n",
    "\n",
    "#deads = 200 (Test variable)\n",
    "def clasificator(deads):\n",
    "    for value in mortality_scale:\n",
    "        lower_bound = mortality_scale.get(value)\n",
    "        upper_bound = mortality_scale.get(value + 1, 10000 )\n",
    "        rank = \"\"\n",
    "        if deads <= 0:\n",
    "            rank = value\n",
    "            break\n",
    "        elif deads > lower_bound and deads <= upper_bound:\n",
    "            rank = value + 1\n",
    "            break\n",
    "        else:\n",
    "            rank = value + 1\n",
    "    return rank\n",
    "\n",
    "# FINALLY I CREATE A FUNCTION THAT ITERATES TROUGH EVERY HURRICANE'S DEATHS, CLASSIFIES THEM USING THE PREVIOUS FUNCTION AND APPENDS THAT HURRICANES NAME TO THE HURRICANES_BY_MORTALITY DICTIONARY: \n",
    "\n",
    "def mortality_rater(hurricanes):\n",
    "    for hurricane in hurricanes:\n",
    "        hurricane_deads = hurricanes[hurricane][\"Deaths\"]\n",
    "        rating = clasificator(hurricane_deads)\n",
    "        hurricanes_by_mortality[rating].append(hurricane)\n",
    "\n",
    "mortality_rater(hurricanes)\n",
    "\n",
    "#THIS WAY IF WE LATER WANT TO EDIT THE MORTALITY SCALES THE HURRICANES WILL BE RE CLASSIFIED WITHOUT FURTHER CHANGES ON THE CODE\n",
    "\n",
    "#PRINTING RESULTS:\n",
    "print(dict(hurricanes_by_mortality))\n",
    "print(hurricanes_by_mortality[3])"
   ]
  },
  {
   "cell_type": "code",
   "execution_count": 11,
   "metadata": {},
   "outputs": [],
   "source": [
    "\n",
    "# write your greatest damage function here:\n",
    "\n",
    "\n"
   ]
  },
  {
   "cell_type": "code",
   "execution_count": 10,
   "metadata": {},
   "outputs": [],
   "source": [
    "\n",
    "# write your catgeorize by damage function here:\n",
    "\n",
    "\n",
    "\n",
    "\n"
   ]
  }
 ]
}
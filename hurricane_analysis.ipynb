{
 "metadata": {
  "language_info": {
   "codemirror_mode": {
    "name": "ipython",
    "version": 3
   },
   "file_extension": ".py",
   "mimetype": "text/x-python",
   "name": "python",
   "nbconvert_exporter": "python",
   "pygments_lexer": "ipython3",
   "version": "3.8.3-final"
  },
  "orig_nbformat": 2,
  "kernelspec": {
   "name": "python3",
   "display_name": "Python 3",
   "language": "python"
  }
 },
 "nbformat": 4,
 "nbformat_minor": 2,
 "cells": [
  {
   "cell_type": "code",
   "execution_count": 1,
   "metadata": {},
   "outputs": [],
   "source": [
    "# names of hurricanes\n",
    "names = ['Cuba I', 'San Felipe II Okeechobee', 'Bahamas', 'Cuba II', 'CubaBrownsville', 'Tampico', 'Labor Day', 'New England', 'Carol', 'Janet', 'Carla', 'Hattie', 'Beulah', 'Camille', 'Edith', 'Anita', 'David', 'Allen', 'Gilbert', 'Hugo', 'Andrew', 'Mitch', 'Isabel', 'Ivan', 'Emily', 'Katrina', 'Rita', 'Wilma', 'Dean', 'Felix', 'Matthew', 'Irma', 'Maria', 'Michael']\n",
    "\n",
    "# months of hurricanes\n",
    "months = ['October', 'September', 'September', 'November', 'August', 'September', 'September', 'September', 'September', 'September', 'September', 'October', 'September', 'August', 'September', 'September', 'August', 'August', 'September', 'September', 'August', 'October', 'September', 'September', 'July', 'August', 'September', 'October', 'August', 'September', 'October', 'September', 'September', 'October']\n",
    "\n",
    "# years of hurricanes\n",
    "years = [1924, 1928, 1932, 1932, 1933, 1933, 1935, 1938, 1953, 1955, 1961, 1961, 1967, 1969, 1971, 1977, 1979, 1980, 1988, 1989, 1992, 1998, 2003, 2004, 2005, 2005, 2005, 2005, 2007, 2007, 2016, 2017, 2017, 2018]\n",
    "\n",
    "# maximum sustained winds (mph) of hurricanes\n",
    "max_sustained_winds = [165, 160, 160, 175, 160, 160, 185, 160, 160, 175, 175, 160, 160, 175, 160, 175, 175, 190, 185, 160, 175, 180, 165, 165, 160, 175, 180, 185, 175, 175, 165, 180, 175, 160]\n",
    "\n",
    "# areas affected by each hurricane\n",
    "areas_affected = [['Central America', 'Mexico', 'Cuba', 'Florida', 'The Bahamas'], ['Lesser Antilles', 'The Bahamas', 'United States East Coast', 'Atlantic Canada'], ['The Bahamas', 'Northeastern United States'], ['Lesser Antilles', 'Jamaica', 'Cayman Islands', 'Cuba', 'The Bahamas', 'Bermuda'], ['The Bahamas', 'Cuba', 'Florida', 'Texas', 'Tamaulipas'], ['Jamaica', 'Yucatn Peninsula'], ['The Bahamas', 'Florida', 'Georgia', 'The Carolinas', 'Virginia'], ['Southeastern United States', 'Northeastern United States', 'Southwestern Quebec'], ['Bermuda', 'New England', 'Atlantic Canada'], ['Lesser Antilles', 'Central America'], ['Texas', 'Louisiana', 'Midwestern United States'], ['Central America'], ['The Caribbean', 'Mexico', 'Texas'], ['Cuba', 'United States Gulf Coast'], ['The Caribbean', 'Central America', 'Mexico', 'United States Gulf Coast'], ['Mexico'], ['The Caribbean', 'United States East coast'], ['The Caribbean', 'Yucatn Peninsula', 'Mexico', 'South Texas'], ['Jamaica', 'Venezuela', 'Central America', 'Hispaniola', 'Mexico'], ['The Caribbean', 'United States East Coast'], ['The Bahamas', 'Florida', 'United States Gulf Coast'], ['Central America', 'Yucatn Peninsula', 'South Florida'], ['Greater Antilles', 'Bahamas', 'Eastern United States', 'Ontario'], ['The Caribbean', 'Venezuela', 'United States Gulf Coast'], ['Windward Islands', 'Jamaica', 'Mexico', 'Texas'], ['Bahamas', 'United States Gulf Coast'], ['Cuba', 'United States Gulf Coast'], ['Greater Antilles', 'Central America', 'Florida'], ['The Caribbean', 'Central America'], ['Nicaragua', 'Honduras'], ['Antilles', 'Venezuela', 'Colombia', 'United States East Coast', 'Atlantic Canada'], ['Cape Verde', 'The Caribbean', 'British Virgin Islands', 'U.S. Virgin Islands', 'Cuba', 'Florida'], ['Lesser Antilles', 'Virgin Islands', 'Puerto Rico', 'Dominican Republic', 'Turks and Caicos Islands'], ['Central America', 'United States Gulf Coast (especially Florida Panhandle)']]\n",
    "\n",
    "# damages (USD($)) of hurricanes\n",
    "damages = ['Damages not recorded', '100M', 'Damages not recorded', '40M', '27.9M', '5M', 'Damages not recorded', '306M', '2M', '65.8M', '326M', '60.3M', '208M', '1.42B', '25.4M', 'Damages not recorded', '1.54B', '1.24B', '7.1B', '10B', '26.5B', '6.2B', '5.37B', '23.3B', '1.01B', '125B', '12B', '29.4B', '1.76B', '720M', '15.1B', '64.8B', '91.6B', '25.1B']\n",
    "\n",
    "# deaths for each hurricane\n",
    "deaths = [90,4000,16,3103,179,184,408,682,5,1023,43,319,688,259,37,11,2068,269,318,107,65,19325,51,124,17,1836,125,87,45,133,603,138,3057,74]\n"
   ]
  },
  {
   "cell_type": "code",
   "execution_count": 2,
   "metadata": {},
   "outputs": [
    {
     "output_type": "execute_result",
     "data": {
      "text/plain": [
       "['Damages not recorded',\n",
       " 100000000.0,\n",
       " 'Damages not recorded',\n",
       " 40000000.0,\n",
       " 27900000.0,\n",
       " 5000000.0,\n",
       " 'Damages not recorded',\n",
       " 306000000.0,\n",
       " 2000000.0,\n",
       " 65800000.0,\n",
       " 326000000.0,\n",
       " 60300000.0,\n",
       " 208000000.0,\n",
       " 1420000000.0,\n",
       " 25400000.0,\n",
       " 'Damages not recorded',\n",
       " 1540000000.0,\n",
       " 1240000000.0,\n",
       " 7100000000.0,\n",
       " 10000000000.0,\n",
       " 26500000000.0,\n",
       " 6200000000.0,\n",
       " 5370000000.0,\n",
       " 23300000000.0,\n",
       " 1010000000.0,\n",
       " 125000000000.0,\n",
       " 12000000000.0,\n",
       " 29400000000.0,\n",
       " 1760000000.0,\n",
       " 720000000.0,\n",
       " 15100000000.0,\n",
       " 64800000000.0,\n",
       " 91600000000.0,\n",
       " 25100000000.0]"
      ]
     },
     "metadata": {},
     "execution_count": 2
    }
   ],
   "source": [
    "\n",
    "# write your update damages function here:\n",
    "\n",
    "updated_damages = []\n",
    "def update_damages(damages):\n",
    "    conversion = {\"M\": 1000000, \n",
    "                  \"B\": 1000000000}\n",
    "    for damage in damages:\n",
    "        if damage == \"Damages not recorded\":\n",
    "            updated_damages.append(damage)\n",
    "        else:\n",
    "            for key in conversion:   \n",
    "                if key in damage:\n",
    "                    updated_damages.append(float(damage[:-1]) * conversion[key])\n",
    "    return updated_damages\n",
    "\n",
    "# ALTERNATIVE:\n",
    "#updated_damages = []\n",
    "#def update_damages(data):\n",
    "#    for value in data:\n",
    "#        if \"M\" in value:\n",
    "#            millions_value = float(value[:-1]) * 1000000\n",
    "#            updated_damages.append(millions_value)\n",
    "#        elif \"B\" in value:\n",
    "#            billions_value = float(value[:-1]) * 1000000000\n",
    "#            updated_damages.append(billions_value)\n",
    "#        else:\n",
    "#            updated_damages.append(value)\n",
    "\n",
    "update_damages(damages)\n"
   ]
  },
  {
   "cell_type": "code",
   "execution_count": 3,
   "metadata": {
    "tags": []
   },
   "outputs": [
    {
     "output_type": "stream",
     "name": "stdout",
     "text": [
      "{'Name': 'Cuba I', 'Month': 'October', 'Year': 1924, 'Max Sustained Wind': 165, 'Areas Affected': ['Central America', 'Mexico', 'Cuba', 'Florida', 'The Bahamas'], 'Damage': 'Damages not recorded', 'Deaths': 90}\n{'Name': 'Michael', 'Month': 'October', 'Year': 2018, 'Max Sustained Wind': 160, 'Areas Affected': ['Central America', 'United States Gulf Coast (especially Florida Panhandle)'], 'Damage': 25100000000.0, 'Deaths': 74}\n"
     ]
    }
   ],
   "source": [
    "\n",
    "# write your construct hurricane dictionary function here:\n",
    "# Iterating trough the entire \"names\" list length, the function imputs the data for every index in the lists in a \"hurricanes\" dictionary\n",
    "\n",
    "hurricanes = {}\n",
    "def construct_dictionary(names, months, years, max_sustained_winds, areas_affected, updated_damages, deaths):\n",
    "    for i in range(len(names)):\n",
    "        hurricanes[names[i]] = {\"Name\": names[i], \n",
    "        \"Month\": months[i], \n",
    "        \"Year\": years[i], \n",
    "        \"Max Sustained Wind\": max_sustained_winds[i], \n",
    "        \"Areas Affected\": areas_affected[i], \n",
    "        \"Damage\": updated_damages[i], \n",
    "        \"Deaths\": deaths[i]}\n",
    "    return hurricanes\n",
    "\n",
    "construct_dictionary(names, months, years, max_sustained_winds, areas_affected, updated_damages, deaths)\n",
    "\n",
    "print(hurricanes[\"Cuba I\"])\n",
    "print(hurricanes[\"Michael\"])\n"
   ]
  },
  {
   "cell_type": "code",
   "execution_count": 4,
   "metadata": {},
   "outputs": [
    {
     "output_type": "stream",
     "name": "stdout",
     "text": [
      "[{'Name': 'Bahamas', 'Month': 'September', 'Year': 1932, 'Max Sustained Wind': 160, 'Areas Affected': ['The Bahamas', 'Northeastern United States'], 'Damage': 'Damages not recorded', 'Deaths': 16}, {'Name': 'Cuba II', 'Month': 'November', 'Year': 1932, 'Max Sustained Wind': 175, 'Areas Affected': ['Lesser Antilles', 'Jamaica', 'Cayman Islands', 'Cuba', 'The Bahamas', 'Bermuda'], 'Damage': 40000000.0, 'Deaths': 3103}]\n \n[{'Name': 'Emily', 'Month': 'July', 'Year': 2005, 'Max Sustained Wind': 160, 'Areas Affected': ['Windward Islands', 'Jamaica', 'Mexico', 'Texas'], 'Damage': 1010000000.0, 'Deaths': 17}, {'Name': 'Katrina', 'Month': 'August', 'Year': 2005, 'Max Sustained Wind': 175, 'Areas Affected': ['Bahamas', 'United States Gulf Coast'], 'Damage': 125000000000.0, 'Deaths': 1836}, {'Name': 'Rita', 'Month': 'September', 'Year': 2005, 'Max Sustained Wind': 180, 'Areas Affected': ['Cuba', 'United States Gulf Coast'], 'Damage': 12000000000.0, 'Deaths': 125}, {'Name': 'Wilma', 'Month': 'October', 'Year': 2005, 'Max Sustained Wind': 185, 'Areas Affected': ['Greater Antilles', 'Central America', 'Florida'], 'Damage': 29400000000.0, 'Deaths': 87}]\n"
     ]
    }
   ],
   "source": [
    "\n",
    "# write your construct hurricane by year dictionary function here:\n",
    "\n",
    "hurricanes_by_year = {}\n",
    "def organize_hurricanes_by_year(hurricanes):\n",
    "    for hurricane in hurricanes:\n",
    "        current_year = hurricanes[hurricane][\"Year\"]\n",
    "        current_cane = hurricanes[hurricane]\n",
    "        if current_year in hurricanes_by_year.keys():\n",
    "            hurricanes_by_year[current_year].append(current_cane)\n",
    "        else:\n",
    "            hurricanes_by_year[current_year] = [current_cane]\n",
    "    return hurricanes_by_year\n",
    "\n",
    "\n",
    "organize_hurricanes_by_year(hurricanes)\n",
    "#print(organize_hurricanes_by_year(hurricanes))\n",
    "print(hurricanes_by_year[1932])\n",
    "print(\" \")\n",
    "print(hurricanes_by_year[2005])\n",
    "\n",
    "# Alternative using years pre existing list:\n",
    "#for year in years:\n",
    "    # creating a list for each year\n",
    "#    hurricanes_by_year[year] = []\n",
    "#    for key in hurricanes.keys():\n",
    "        # appending huricane data to its year list\n",
    "#        if year == hurricanes[key][\"Year\"]:\n",
    "#            hurricanes_by_year[year].append(hurricanes[key])"
   ]
  },
  {
   "cell_type": "code",
   "execution_count": 5,
   "metadata": {},
   "outputs": [
    {
     "output_type": "execute_result",
     "data": {
      "text/plain": [
       "{'Central America': 9,\n",
       " 'Mexico': 7,\n",
       " 'Cuba': 6,\n",
       " 'Florida': 6,\n",
       " 'The Bahamas': 7,\n",
       " 'Lesser Antilles': 4,\n",
       " 'United States East Coast': 3,\n",
       " 'Atlantic Canada': 3,\n",
       " 'Northeastern United States': 2,\n",
       " 'Jamaica': 4,\n",
       " 'Cayman Islands': 1,\n",
       " 'Bermuda': 2,\n",
       " 'Texas': 4,\n",
       " 'Tamaulipas': 1,\n",
       " 'Yucatn Peninsula': 3,\n",
       " 'Georgia': 1,\n",
       " 'The Carolinas': 1,\n",
       " 'Virginia': 1,\n",
       " 'Southeastern United States': 1,\n",
       " 'Southwestern Quebec': 1,\n",
       " 'New England': 1,\n",
       " 'Louisiana': 1,\n",
       " 'Midwestern United States': 1,\n",
       " 'The Caribbean': 8,\n",
       " 'United States Gulf Coast': 6,\n",
       " 'United States East coast': 1,\n",
       " 'South Texas': 1,\n",
       " 'Venezuela': 3,\n",
       " 'Hispaniola': 1,\n",
       " 'South Florida': 1,\n",
       " 'Greater Antilles': 2,\n",
       " 'Bahamas': 2,\n",
       " 'Eastern United States': 1,\n",
       " 'Ontario': 1,\n",
       " 'Windward Islands': 1,\n",
       " 'Nicaragua': 1,\n",
       " 'Honduras': 1,\n",
       " 'Antilles': 1,\n",
       " 'Colombia': 1,\n",
       " 'Cape Verde': 1,\n",
       " 'British Virgin Islands': 1,\n",
       " 'U.S. Virgin Islands': 1,\n",
       " 'Virgin Islands': 1,\n",
       " 'Puerto Rico': 1,\n",
       " 'Dominican Republic': 1,\n",
       " 'Turks and Caicos Islands': 1,\n",
       " 'United States Gulf Coast (especially Florida Panhandle)': 1}"
      ]
     },
     "metadata": {},
     "execution_count": 5
    }
   ],
   "source": [
    "\n",
    "# write your count affected areas function here:\n",
    "\n",
    "hurricane_count_by_area = {}\n",
    "def hurricane_counter(hurricanes):\n",
    "    for hurricane in hurricanes:\n",
    "        areas = hurricanes[hurricane][\"Areas Affected\"]\n",
    "        for area in areas:\n",
    "            if area not in hurricane_count_by_area:\n",
    "                hurricane_count_by_area[area] = 1\n",
    "            else:\n",
    "                hurricane_count_by_area[area] += 1\n",
    "    return hurricane_count_by_area\n",
    "\n",
    "hurricane_counter(hurricanes)\n",
    "\n",
    "#Alternative using DEFAULTDICT\n",
    "\n",
    "#from collections import defaultdict\n",
    "\n",
    "#hurricane_count = defaultdict(int)\n",
    "\n",
    "#def hurricane_counter_by_area(hurricanes):\n",
    "#    for hurricane in hurricanes:\n",
    "#        areas = hurricanes[hurricane][\"Areas Affected\"]\n",
    "#        for area in areas:\n",
    "#            hurricane_count[area] += 1\n",
    "#    return hurricane_count\n",
    "\n",
    "#hurricane_counter_by_area(hurricanes)\n",
    "#print(dict(hurricane_count))"
   ]
  },
  {
   "cell_type": "code",
   "execution_count": 6,
   "metadata": {},
   "outputs": [
    {
     "output_type": "stream",
     "name": "stdout",
     "text": [
      "Central America: 9\n"
     ]
    }
   ],
   "source": [
    "\n",
    "# write your find most affected area function here:\n",
    "\n",
    "def most_affected(hurricane_count):\n",
    "    max_value = max(hurricane_count.values())\n",
    "    for area, hurricane_number in hurricane_count.items():\n",
    "        if hurricane_number == max_value:\n",
    "            print(f\"{area}: {hurricane_number}\")\n",
    "            \n",
    "most_affected(hurricane_count_by_area)\n"
   ]
  },
  {
   "cell_type": "code",
   "execution_count": 7,
   "metadata": {},
   "outputs": [
    {
     "output_type": "stream",
     "name": "stdout",
     "text": [
      "Mitch: 19325\n{'Cuba I': 90, 'San Felipe II Okeechobee': 4000, 'Bahamas': 16, 'Cuba II': 3103, 'CubaBrownsville': 179, 'Tampico': 184, 'Labor Day': 408, 'New England': 682, 'Carol': 5, 'Janet': 1023, 'Carla': 43, 'Hattie': 319, 'Beulah': 688, 'Camille': 259, 'Edith': 37, 'Anita': 11, 'David': 2068, 'Allen': 269, 'Gilbert': 318, 'Hugo': 107, 'Andrew': 65, 'Mitch': 19325, 'Isabel': 51, 'Ivan': 124, 'Emily': 17, 'Katrina': 1836, 'Rita': 125, 'Wilma': 87, 'Dean': 45, 'Felix': 133, 'Matthew': 603, 'Irma': 138, 'Maria': 3057, 'Michael': 74}\n"
     ]
    }
   ],
   "source": [
    "\n",
    "# write your greatest number of deaths function here:\n",
    "\n",
    "# In this case I create a dictionary that goups every hurricane and it's death toll:\n",
    "hurricanes_deaths = {}\n",
    "\n",
    "def most_deadly(hurricanes):\n",
    "    for hurricane in hurricanes:\n",
    "        current_cane = hurricanes[hurricane][\"Name\"]\n",
    "        death_count = hurricanes[hurricane][\"Deaths\"]\n",
    "        hurricanes_deaths[current_cane] = death_count\n",
    "    # Then I search for the max value in that dictionary:\n",
    "    max_deaths = max(hurricanes_deaths.values())\n",
    "    # Finally I print the one with the higher amount of deaths:\n",
    "    for cane, d_count in hurricanes_deaths.items():\n",
    "        if d_count == max_deaths:\n",
    "            print(f\"{cane}: {max_deaths}\")\n",
    "\n",
    "most_deadly(hurricanes)\n",
    "\n",
    "print(hurricanes_deaths)\n"
   ]
  },
  {
   "cell_type": "code",
   "execution_count": 8,
   "metadata": {
    "tags": []
   },
   "outputs": [
    {
     "output_type": "stream",
     "name": "stdout",
     "text": [
      "{0: [], 1: [], 2: [], 3: [], 4: [], 5: []}\n{0: [], 1: ['Cuba I', 'Bahamas', 'Carol', 'Carla', 'Edith', 'Anita', 'Andrew', 'Isabel', 'Emily', 'Wilma', 'Dean', 'Michael'], 2: ['CubaBrownsville', 'Tampico', 'Labor Day', 'Hattie', 'Camille', 'Allen', 'Gilbert', 'Hugo', 'Ivan', 'Rita', 'Felix', 'Irma'], 3: ['New England', 'Beulah', 'Matthew'], 4: ['San Felipe II Okeechobee', 'Cuba II', 'Janet', 'David', 'Katrina', 'Maria'], 5: ['Mitch']}\n['Mitch']\n"
     ]
    }
   ],
   "source": [
    "\n",
    "# write your catgeorize by mortality function here:\n",
    "mortality_scale = {0: 0,\n",
    "                   1: 100,\n",
    "                   2: 500,\n",
    "                   3: 1000,\n",
    "                   4: 10000}\n",
    "\n",
    "# 1ST I CREATE A DICTIONARY WITH MORTALITY RATINGS AS THE KEYS AND EMPTY LISTS AS VALUES:\n",
    "\n",
    "from collections import defaultdict\n",
    "hurricanes_by_mortality = defaultdict(list)\n",
    "\n",
    "for key in range(len(mortality_scale)+1):\n",
    "    hurricanes_by_mortality[key] = []\n",
    "\n",
    "#PRINTING DICTIONARY WITH EMPTY LISTS\n",
    "print(dict(hurricanes_by_mortality))\n",
    "\n",
    "# 2ND I CREATE A FUNCTION THAT TAKES A NUMBER OF DEADS AS PARAMETER AND RETURNS A RANK VALUE FOLLOWING THE MORTALITY SCALE:\n",
    "\n",
    "#deads = 200 (Test variable)\n",
    "def clasificator(deads):\n",
    "    for value in mortality_scale:\n",
    "        lower_bound = mortality_scale.get(value)\n",
    "        upper_bound = mortality_scale.get(value + 1, 10000 )\n",
    "        rank = \"\"\n",
    "        if deads <= 0:\n",
    "            rank = value\n",
    "            break\n",
    "        elif deads > lower_bound and deads <= upper_bound:\n",
    "            rank = value + 1\n",
    "            break\n",
    "        else:\n",
    "            rank = value + 1\n",
    "    return rank\n",
    "\n",
    "# FINALLY I CREATE A FUNCTION THAT ITERATES TROUGH EVERY HURRICANE'S DEATHS, CLASSIFIES THEM USING THE PREVIOUS FUNCTION AND APPENDS THAT HURRICANES NAME TO THE HURRICANES_BY_MORTALITY DICTIONARY: \n",
    "\n",
    "def mortality_rater(hurricanes):\n",
    "    for hurricane in hurricanes:\n",
    "        hurricane_deads = hurricanes[hurricane][\"Deaths\"]\n",
    "        rating = clasificator(hurricane_deads)\n",
    "        hurricanes_by_mortality[rating].append(hurricane)\n",
    "    return hurricanes_by_mortality\n",
    "\n",
    "mortality_rater(hurricanes)\n",
    "\n",
    "#THIS WAY IF WE LATER WANT TO EDIT THE MORTALITY SCALES THE HURRICANES WILL BE RE CLASSIFIED WITHOUT FURTHER CHANGES ON THE CODE\n",
    "\n",
    "#PRINTING RESULTS:\n",
    "print(dict(hurricanes_by_mortality))\n",
    "print(hurricanes_by_mortality[5])"
   ]
  },
  {
   "cell_type": "code",
   "execution_count": 9,
   "metadata": {},
   "outputs": [
    {
     "output_type": "stream",
     "name": "stdout",
     "text": [
      "Katrina: 125000000000\nKatrina: 125000000000\n"
     ]
    }
   ],
   "source": [
    "\n",
    "# write your greatest damage function here:\n",
    "\n",
    "# 1st I create a new dictionary pairing name and damage record of each hurricane, if damages where not recorded they get assigned a value of 0\n",
    "hurricanes_damage = {}\n",
    "\n",
    "for hurricane in hurricanes.keys():\n",
    "    dmg = hurricanes[hurricane][\"Damage\"]\n",
    "    if type(dmg) == str:\n",
    "        hurricanes_damage[hurricane] = 0\n",
    "    else:\n",
    "        hurricanes_damage[hurricane] = dmg    \n",
    "\n",
    "#2nd I create a function that looks for the max damage in the previous dictionary and prints the name and dmg record of the greatest hurricane\n",
    "def greatest_damage(hurricanes_dmg):  \n",
    "    max_dmg = max(hurricanes_dmg.values())\n",
    "    for hurricane, damage in hurricanes_dmg.items():\n",
    "        if damage == max_dmg:\n",
    "            print(f\"{hurricane}: {int(damage)}\")\n",
    "\n",
    "greatest_damage(hurricanes_damage)\n",
    "\n",
    "#ALTERNATIVE without creating a new dict:\n",
    "def grt_dmg(hurricanes):\n",
    "    max_dmg_cane = \"\"\n",
    "    max_damg = 0\n",
    "    for hurricane in hurricanes:\n",
    "        if hurricanes[hurricane][\"Damage\"] == \"Damages not recorded\":\n",
    "            #LOOK FOR ALTERNATIVE TO \"DO NOTHING\" IF THIS IS TRUE:\n",
    "            pass\n",
    "            #max_dmg_cane = max_dmg_cane\n",
    "            #max_damg = max_damg\n",
    "        elif hurricanes[hurricane][\"Damage\"] > max_damg:\n",
    "            max_damg = hurricanes[hurricane][\"Damage\"]\n",
    "            max_dmg_cane = hurricane\n",
    "    return print(f\"{max_dmg_cane}: {int(max_damg)}\")\n",
    "\n",
    "grt_dmg(hurricanes)\n"
   ]
  },
  {
   "cell_type": "code",
   "execution_count": 10,
   "metadata": {},
   "outputs": [
    {
     "output_type": "stream",
     "name": "stdout",
     "text": [
      "{0: [], 1: [], 2: [], 3: [], 4: [], 5: []}\n{0: ['Cuba I', 'Bahamas', 'Labor Day', 'Anita'], 1: ['San Felipe II Okeechobee', 'Cuba II', 'CubaBrownsville', 'Tampico', 'Carol', 'Janet', 'Hattie', 'Edith'], 2: ['New England', 'Carla', 'Beulah', 'Felix'], 3: ['Camille', 'David', 'Allen', 'Gilbert', 'Hugo', 'Mitch', 'Isabel', 'Emily', 'Dean'], 4: ['Andrew', 'Ivan', 'Rita', 'Wilma', 'Matthew', 'Michael'], 5: ['Katrina', 'Irma', 'Maria']}\n\nHurricanes class 1: San Felipe II Okeechobee, Cuba II, CubaBrownsville, Tampico, Carol, Janet, Hattie, Edith\nHurricanes class 2: New England, Carla, Beulah, Felix\nHurricanes class 3: Camille, David, Allen, Gilbert, Hugo, Mitch, Isabel, Emily, Dean\nHurricanes class 4: Andrew, Ivan, Rita, Wilma, Matthew, Michael\nHurricanes class 5: Katrina, Irma, Maria\n\n"
     ]
    }
   ],
   "source": [
    "\n",
    "# write your catgeorize by damage function here:\n",
    "damage_scale = {0: 0,\n",
    "                1: 100000000,\n",
    "                2: 1000000000,\n",
    "                3: 10000000000,\n",
    "                4: 50000000000}\n",
    "\n",
    "# 1st I create a dictionary with an empty list for every value in the damage scale: \n",
    "hurricanes_by_damage = defaultdict(list)\n",
    "\n",
    "for key in range(len(damage_scale)+1):\n",
    "    hurricanes_by_damage[key] = []\n",
    "\n",
    "# Printing dictionary with empty lists:\n",
    "print(dict(hurricanes_by_damage))\n",
    "\n",
    "# 2nd I create a function that takes a damage amount as parameter and returns a rank value acording to the damage scale. If \"Damages were not recorded\" a 0 damage rating is asigned\n",
    "\n",
    "#damage = 10 (Test variable)\n",
    "def dmg_clasificator(damage):\n",
    "    for value in damage_scale:\n",
    "        lower_bound = damage_scale.get(value)\n",
    "        upper_bound = damage_scale.get(value + 1, 10000 )\n",
    "        rank = \"\"\n",
    "        if type(damage) == str:\n",
    "            rank = 0\n",
    "            break\n",
    "        elif damage <= 0: \n",
    "            rank = value\n",
    "            break\n",
    "        elif damage > lower_bound and damage <= upper_bound:\n",
    "            rank = value + 1\n",
    "            break\n",
    "        else:\n",
    "            rank = value + 1\n",
    "    return rank\n",
    "\n",
    "# Finally I create a function that iteates trough every hurricane's dmg record and appends that hurricanes name to the hurricanes_by_damage dictionary:\n",
    "\n",
    "def damage_rater(hurricanes):\n",
    "    for hurricane in hurricanes:\n",
    "        hurricane_damage = hurricanes[hurricane][\"Damage\"]\n",
    "        rating = dmg_clasificator(hurricane_damage)\n",
    "        hurricanes_by_damage[rating].append(hurricane)\n",
    "\n",
    "damage_rater(hurricanes)\n",
    "\n",
    "# This way if the damage scales are edited the hurricanes will be re classified without further changes on the code.\n",
    "\n",
    "#Printing results:\n",
    "print(dict(hurricanes_by_damage))\n",
    "print(f\"\"\"\n",
    "Hurricanes class 1: {\", \".join(hurricanes_by_damage[1])}\n",
    "Hurricanes class 2: {\", \".join(hurricanes_by_damage[2])}\n",
    "Hurricanes class 3: {\", \".join(hurricanes_by_damage[3])}\n",
    "Hurricanes class 4: {\", \".join(hurricanes_by_damage[4])}\n",
    "Hurricanes class 5: {\", \".join(hurricanes_by_damage[5])}\n",
    "\"\"\")"
   ]
  }
 ]
}